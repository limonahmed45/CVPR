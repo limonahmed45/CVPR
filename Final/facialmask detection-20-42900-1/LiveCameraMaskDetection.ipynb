{
 "cells": [
  {
   "attachments": {},
   "cell_type": "markdown",
   "metadata": {},
   "source": [
    "## Live Camera Mask Detection [Version 1] -> 20-42900-1\n"
   ]
  },
  {
   "cell_type": "markdown",
   "metadata": {},
   "source": [
    "Imports"
   ]
  },
  {
   "cell_type": "code",
   "execution_count": 3,
   "metadata": {},
   "outputs": [],
   "source": [
    "import cv2\n",
    "import numpy as np\n",
    "from tensorflow import keras"
   ]
  },
  {
   "attachments": {},
   "cell_type": "markdown",
   "metadata": {},
   "source": [
    "## Live Camera Mask Detection [Version 1] -> 20-42900-1\n"
   ]
  },
  {
   "cell_type": "code",
   "execution_count": 6,
   "metadata": {},
   "outputs": [],
   "source": [
    "results = {0:\"Without Mask\",1:\"With Mask\"}\n",
    "gr_dict = {0:(0,0,255),1:(0,255,0)}\n",
    "\n",
    "rect_size = 4\n",
    "live_cap = cv2.VideoCapture(0)\n",
    "\n",
    "#load model\n",
    "model = keras.models.load_model(\"MyModel\")\n",
    "\n",
    "\n",
    "#capture\n",
    "#haarcascade = cv2.CascadeClassifier('/content/drive/MyDrive/Project_MaskDetection/FacialDetection/haar cascades/haarcascade_frontalface_default.xml')\n",
    "haarcascade = cv2.CascadeClassifier('haar cascades/haarcascade_frontalface_default.xml')\n",
    "\n",
    "\n",
    "while True:\n",
    "    (rval, im) = live_cap.read()\n",
    "    im=cv2.flip(im,1,1) \n",
    "    \n",
    "    rerect_size = cv2.resize(im, (im.shape[1] // rect_size, im.shape[0] // rect_size))\n",
    "    faces = haarcascade.detectMultiScale(rerect_size)\n",
    "    # gray = cv2.cvtColor(im, cv2.COLOR_BGR2GRAY)\n",
    "    # faces = haarcascade.detectMultiScale(gray,1.3,5)\n",
    "    for f in faces:\n",
    "        (x, y, w, h) = [v * rect_size for v in f] \n",
    "        \n",
    "        face_img = im[y:y+h, x:x+w]\n",
    "        rerect_sized=cv2.resize(face_img,(227,227))\n",
    "        normalized=rerect_sized/255.0\n",
    "        reshaped = np.reshape(normalized,(1,227,227,3))\n",
    "        reshaped = np.vstack([reshaped])\n",
    "        result=model.predict(reshaped)\n",
    "        label=np.argmax(result,axis=1)[0]\n",
    "      \n",
    "        cv2.rectangle(im,(x,y),(x+w,y+h),gr_dict[label],2)\n",
    "        cv2.rectangle(im,(x,y-40),(x+w,y),gr_dict[label],-1)\n",
    "        cv2.putText(im, results[label], (x, y-10),cv2.FONT_HERSHEY_SIMPLEX,0.8,(255,255,255),2)\n",
    "        \n",
    "    cv2.imshow('MASK DETECTION - 42161',   im)\n",
    "    key = cv2.waitKey(10)\n",
    "    \n",
    "    if key == 27: \n",
    "        break\n",
    "live_cap.release()\n",
    "cv2.destroyAllWindows()"
   ]
  },
  {
   "attachments": {},
   "cell_type": "markdown",
   "metadata": {},
   "source": [
    "## Live Camera Mask Detection [Version 2] -> 20-42900-1"
   ]
  },
  {
   "cell_type": "code",
   "execution_count": null,
   "metadata": {},
   "outputs": [],
   "source": [
    "results = {0:\"Without Mask\",1:\"With Mask\"}\n",
    "gr_dict = {0:(0,0,255),1:(0,255,0)}\n",
    "\n",
    "rect_size = 4\n",
    "live_cap = cv2.VideoCapture(0)\n",
    "\n",
    "#load model\n",
    "model = keras.models.load_model(\"MyModel_V2\")\n",
    "\n",
    "\n",
    "#capture\n",
    "#haarcascade = cv2.CascadeClassifier('/content/drive/MyDrive/Project_MaskDetection/FacialDetection/haar cascades/haarcascade_frontalface_default.xml')\n",
    "haarcascade = cv2.CascadeClassifier('haar cascades/haarcascade_frontalface_default.xml')\n",
    "\n",
    "\n",
    "while True:\n",
    "    (rval, im) = live_cap.read()\n",
    "    im=cv2.flip(im,1,1) \n",
    "    \n",
    "    rerect_size = cv2.resize(im, (im.shape[1] // rect_size, im.shape[0] // rect_size))\n",
    "    faces = haarcascade.detectMultiScale(rerect_size)\n",
    "    # gray = cv2.cvtColor(im, cv2.COLOR_BGR2GRAY)\n",
    "    # faces = haarcascade.detectMultiScale(gray,1.3,5)\n",
    "    for f in faces:\n",
    "        (x, y, w, h) = [v * rect_size for v in f] \n",
    "        \n",
    "        face_img = im[y:y+h, x:x+w]\n",
    "        rerect_sized=cv2.resize(face_img,(227,227))\n",
    "        normalized=rerect_sized/255.0\n",
    "        reshaped = np.reshape(normalized,(1,227,227,3))\n",
    "        reshaped = np.vstack([reshaped])\n",
    "        result=model.predict(reshaped)\n",
    "        label=np.argmax(result,axis=1)[0]\n",
    "      \n",
    "        cv2.rectangle(im,(x,y),(x+w,y+h),gr_dict[label],2)\n",
    "        cv2.rectangle(im,(x,y-40),(x+w,y),gr_dict[label],-1)\n",
    "        cv2.putText(im, results[label], (x, y-10),cv2.FONT_HERSHEY_SIMPLEX,0.8,(255,255,255),2)\n",
    "        \n",
    "    cv2.imshow('MASK DETECTION - 42161',   im)\n",
    "    key = cv2.waitKey(10)\n",
    "    \n",
    "    if key == 27: \n",
    "        break\n",
    "live_cap.release()\n",
    "cv2.destroyAllWindows()"
   ]
  },
  {
   "attachments": {},
   "cell_type": "markdown",
   "metadata": {},
   "source": [
    "## Live Camera Mask Detection [Version 3] -> 20-42900-1\n"
   ]
  },
  {
   "cell_type": "code",
   "execution_count": null,
   "metadata": {},
   "outputs": [],
   "source": [
    "results = {0:\"Without Mask\",1:\"With Mask\"}\n",
    "gr_dict = {0:(0,0,255),1:(0,255,0)}\n",
    "\n",
    "rect_size = 4\n",
    "live_cap = cv2.VideoCapture(0)\n",
    "\n",
    "#load model\n",
    "model = keras.models.load_model(\"MyModel_V3\")\n",
    "\n",
    "\n",
    "#capture\n",
    "#haarcascade = cv2.CascadeClassifier('/content/drive/MyDrive/Project_MaskDetection/FacialDetection/haar cascades/haarcascade_frontalface_default.xml')\n",
    "haarcascade = cv2.CascadeClassifier('haar cascades/haarcascade_frontalface_default.xml')\n",
    "\n",
    "\n",
    "while True:\n",
    "    (rval, im) = live_cap.read()\n",
    "    im=cv2.flip(im,1,1) \n",
    "    \n",
    "    rerect_size = cv2.resize(im, (im.shape[1] // rect_size, im.shape[0] // rect_size))\n",
    "    faces = haarcascade.detectMultiScale(rerect_size)\n",
    "    # gray = cv2.cvtColor(im, cv2.COLOR_BGR2GRAY)\n",
    "    # faces = haarcascade.detectMultiScale(gray,1.3,5)\n",
    "    for f in faces:\n",
    "        (x, y, w, h) = [v * rect_size for v in f] \n",
    "        \n",
    "        face_img = im[y:y+h, x:x+w]\n",
    "        rerect_sized=cv2.resize(face_img,(227,227))\n",
    "        normalized=rerect_sized/255.0\n",
    "        reshaped = np.reshape(normalized,(1,227,227,3))\n",
    "        reshaped = np.vstack([reshaped])\n",
    "        result=model.predict(reshaped)\n",
    "        label=np.argmax(result,axis=1)[0]\n",
    "      \n",
    "        cv2.rectangle(im,(x,y),(x+w,y+h),gr_dict[label],2)\n",
    "        cv2.rectangle(im,(x,y-40),(x+w,y),gr_dict[label],-1)\n",
    "        cv2.putText(im, results[label], (x, y-10),cv2.FONT_HERSHEY_SIMPLEX,0.8,(255,255,255),2)\n",
    "        \n",
    "    cv2.imshow('MASK DETECTION - 42161',   im)\n",
    "    key = cv2.waitKey(10)\n",
    "    \n",
    "    if key == 27: \n",
    "        break\n",
    "live_cap.release()\n",
    "cv2.destroyAllWindows()"
   ]
  },
  {
   "cell_type": "markdown",
   "metadata": {},
   "source": [
    "## Version 4 [Final]"
   ]
  },
  {
   "cell_type": "code",
   "execution_count": 4,
   "metadata": {},
   "outputs": [],
   "source": [
    "results = {0:\"With Mask\",1:\"Without Mask\"}\n",
    "gr_dict = {0:(0,255,0),1:(0,0,255)} #BGR\n",
    "\n",
    "rect_size = 4\n",
    "live_cap = cv2.VideoCapture(0)\n",
    "\n",
    "#load model\n",
    "model = keras.models.load_model(\"MyModel_V4\")\n",
    "\n",
    "\n",
    "#capture\n",
    "#haarcascade = cv2.CascadeClassifier('/content/drive/MyDrive/Project_MaskDetection/FacialDetection/haar cascades/haarcascade_frontalface_default.xml')\n",
    "haarcascade = cv2.CascadeClassifier('haar cascades/haarcascade_frontalface_default.xml')\n",
    "\n",
    "\n",
    "while True:\n",
    "    (rval, im) = live_cap.read()\n",
    "    im=cv2.flip(im,1,1) \n",
    "    \n",
    "    rerect_size = cv2.resize(im, (im.shape[1] // rect_size, im.shape[0] // rect_size))\n",
    "    faces = haarcascade.detectMultiScale(rerect_size)\n",
    "\n",
    "    for f in faces:\n",
    "        (x, y, w, h) = [v * rect_size for v in f] \n",
    "        \n",
    "        face_img = im[y:y+h, x:x+w]\n",
    "        face_resized=cv2.resize(face_img,(227,227))\n",
    "        #normalized=face_resized/255.0\n",
    "        reshaped = np.reshape(face_resized,(1,227,227,3))\n",
    "        reshaped = np.vstack([reshaped])\n",
    "        result=model.predict(reshaped)\n",
    "        label=np.argmax(result,axis=1)[0]\n",
    "        \n",
    "        cv2.rectangle(im,(x,y),(x+w,y+h),gr_dict[label],2)\n",
    "        cv2.rectangle(im,(x,y-40),(x+w,y),gr_dict[label],-1)\n",
    "        cv2.putText(im, results[label], (x, y-10),cv2.FONT_HERSHEY_SIMPLEX,0.8,(0,200,0),2)\n",
    "        \n",
    "    cv2.imshow('MASK DETECTION - 42161',   im)\n",
    "    key = cv2.waitKey(10)\n",
    "    \n",
    "    if key == 27: \n",
    "        break\n",
    "live_cap.release()\n",
    "cv2.destroyAllWindows()"
   ]
  }
 ],
 "metadata": {
  "interpreter": {
   "hash": "07efdcd4b820c98a756949507a4d29d7862823915ec7477944641bea022f4f62"
  },
  "kernelspec": {
   "display_name": "Python 3.8.8 ('base')",
   "language": "python",
   "name": "python3"
  },
  "language_info": {
   "codemirror_mode": {
    "name": "ipython",
    "version": 3
   },
   "file_extension": ".py",
   "mimetype": "text/x-python",
   "name": "python",
   "nbconvert_exporter": "python",
   "pygments_lexer": "ipython3",
   "version": "3.8.8"
  },
  "orig_nbformat": 4
 },
 "nbformat": 4,
 "nbformat_minor": 2
}
